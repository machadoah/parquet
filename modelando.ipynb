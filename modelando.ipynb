{
 "cells": [
  {
   "metadata": {},
   "cell_type": "markdown",
   "source": "Carregando Dataset",
   "id": "14fdc91d6d4b9d21"
  },
  {
   "metadata": {},
   "cell_type": "code",
   "source": [
    "import seaborn as sns\n",
    "import pandas as pd\n",
    "\n",
    "df_iris = sns.load_dataset(\"iris\")"
   ],
   "id": "1de0500c611ef997",
   "outputs": [],
   "execution_count": null
  },
  {
   "metadata": {},
   "cell_type": "code",
   "source": "df_iris.head()",
   "id": "7aa57751a36a2f3d",
   "outputs": [],
   "execution_count": null
  },
  {
   "metadata": {},
   "cell_type": "code",
   "source": "df_iris['species'].value_counts()",
   "id": "3a237cc668d7338f",
   "outputs": [],
   "execution_count": null
  },
  {
   "metadata": {},
   "cell_type": "code",
   "source": [
    "# vizualizando a correlação\n",
    "import matplotlib.pyplot as plt\n",
    "import seaborn as sns\n",
    "\n",
    "# Remover a coluna categórica 'species'\n",
    "df_numeric = df_iris.drop(columns=['species'])\n",
    "\n",
    "# Gerar o heatmap com as correlações\n",
    "plt.figure(figsize=(8, 6))\n",
    "sns.heatmap(df_numeric.corr(), annot=True, cmap='coolwarm')\n",
    "plt.show()"
   ],
   "id": "bf277e40e435579a",
   "outputs": [],
   "execution_count": null
  },
  {
   "metadata": {},
   "cell_type": "code",
   "source": [
    "# Distribuição das variáveis com histogramas:\n",
    "df_iris.hist(figsize=(10, 8), bins=20)\n",
    "plt.show()"
   ],
   "id": "bae0b78a3647867d",
   "outputs": [],
   "execution_count": null
  },
  {
   "metadata": {},
   "cell_type": "code",
   "source": [
    "# Relação entre variáveis com pairplot:\n",
    "sns.pairplot(df_iris, hue='species')\n",
    "plt.show()"
   ],
   "id": "4dbe2fe7e445549",
   "outputs": [],
   "execution_count": null
  },
  {
   "metadata": {},
   "cell_type": "code",
   "source": [
    "# Agrupamento por espécie e cálculo das médias:\n",
    "df_iris.groupby('species').mean()"
   ],
   "id": "b8fa1af048b95a52",
   "outputs": [],
   "execution_count": null
  },
  {
   "metadata": {},
   "cell_type": "code",
   "source": [
    "# Filtragem dos dados:\n",
    "df_setosa = df_iris[(df_iris['species'] == 'setosa') & (df_iris['sepal_width'] > 3.5)]\n",
    "df_setosa"
   ],
   "id": "e964f87b125b245",
   "outputs": [],
   "execution_count": null
  }
 ],
 "metadata": {
  "kernelspec": {
   "display_name": "Python 3",
   "language": "python",
   "name": "python3"
  },
  "language_info": {
   "codemirror_mode": {
    "name": "ipython",
    "version": 2
   },
   "file_extension": ".py",
   "mimetype": "text/x-python",
   "name": "python",
   "nbconvert_exporter": "python",
   "pygments_lexer": "ipython2",
   "version": "2.7.6"
  }
 },
 "nbformat": 4,
 "nbformat_minor": 5
}

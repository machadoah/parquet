{
 "cells": [
  {
   "cell_type": "markdown",
   "id": "8d7dbb06",
   "metadata": {},
   "source": [
    "# Arquivos Apache Parquet\n",
    "\n",
    "Vantagens em espaço ocupado, em tempo de consultas, o Apache Parquet faz parte do ecossistema Hadoop e é muito utilizado como forma de deixar os dados armazenados mais interoperáveis entre as diferentes plataformas e ferramentas."
   ]
  },
  {
   "metadata": {},
   "cell_type": "markdown",
   "source": [
    "Instale o pandas, pyarrow e seaborn com o pip ou o poetry caso estiver instalado:\n",
    "\n",
    "```\n",
    "pip install pandas pyarrow seaborn\n",
    "```\n",
    "\n",
    "```\n",
    "poetry add pandas pyarrow seaborn\n",
    "```\n",
    "\n",
    "Descompacte o arquivo `.zip` de [data](https://drive.google.com/drive/folders/1gb7DQk0Bl8u3h2N_8W_ypewnWxNyk-Br?usp=sharing), irá gerar um arquivo chamado `iris_gigante.csv`"
   ],
   "id": "5472be05bd0efac5"
  },
  {
   "cell_type": "code",
   "id": "2d0949c4",
   "metadata": {},
   "source": [
    "import pandas as pd\n",
    "import seaborn as sns"
   ],
   "outputs": [],
   "execution_count": null
  },
  {
   "cell_type": "markdown",
   "id": "f23ae5c4",
   "metadata": {},
   "source": "#### Primeira Grande Vantagem: espaço e tempo!"
  },
  {
   "metadata": {},
   "cell_type": "markdown",
   "source": "Função que faz um check no tamanho do arquivo:",
   "id": "824b12bafe9b16b7"
  },
  {
   "cell_type": "code",
   "id": "5eb17e53",
   "metadata": {},
   "source": [
    "# https://stackoverflow.com/questions/2104080/how-can-i-check-file-size-in-python\n",
    "\n",
    "def convert_bytes(num):\n",
    "    \"\"\"\n",
    "    this function will convert bytes to MB.... GB... etc\n",
    "    \"\"\"\n",
    "    for x in ['bytes', 'KB', 'MB', 'GB', 'TB']:\n",
    "        if num < 1024.0:\n",
    "            return \"%3.1f %s\" % (num, x)\n",
    "        num /= 1024.0"
   ],
   "outputs": [],
   "execution_count": null
  },
  {
   "cell_type": "code",
   "id": "452f6973",
   "metadata": {},
   "source": [
    "import os\n",
    "\n",
    "csv_em_bytes = os.path.getsize(\"./data/iris_gigante.csv\")\n",
    "convert_bytes(csv_em_bytes)"
   ],
   "outputs": [],
   "execution_count": null
  },
  {
   "metadata": {},
   "cell_type": "markdown",
   "source": "Lendo o csv e mostrando a sua descrição:",
   "id": "adc3c0371fa3f04b"
  },
  {
   "cell_type": "code",
   "id": "4fc623d7",
   "metadata": {},
   "source": [
    "%%time\n",
    "\n",
    "df_gigante = pd.read_csv('./data/iris_gigante.csv')\n",
    "df_gigante.shape"
   ],
   "outputs": [],
   "execution_count": null
  },
  {
   "metadata": {},
   "cell_type": "markdown",
   "source": "Convertendo para `.parquet`:",
   "id": "b917557688d63340"
  },
  {
   "cell_type": "code",
   "id": "2428ec10",
   "metadata": {},
   "source": [
    "df_gigante.to_parquet('./data/iris_gigante.parquet')"
   ],
   "outputs": [],
   "execution_count": null
  },
  {
   "metadata": {},
   "cell_type": "markdown",
   "source": "Conferindo o arquivo que era `324.0 MB` em `.csv`, agora em parquet:",
   "id": "71d51cd9b400bb4a"
  },
  {
   "cell_type": "code",
   "id": "b933e431",
   "metadata": {},
   "source": [
    "parquet_em_bytes = os.path.getsize(\"./data/iris_gigante.parquet\")\n",
    "convert_bytes(parquet_em_bytes)"
   ],
   "outputs": [],
   "execution_count": null
  },
  {
   "metadata": {},
   "cell_type": "markdown",
   "source": "Lendo o parquet e mostrando suas descrição:",
   "id": "48d05e94cfd17f88"
  },
  {
   "cell_type": "code",
   "id": "c7fb6b8e",
   "metadata": {},
   "source": [
    "%%time \n",
    "\n",
    "df_parquet = pd.read_parquet('./data/iris_gigante.parquet')\n",
    "df_parquet.shape"
   ],
   "outputs": [],
   "execution_count": null
  },
  {
   "metadata": {},
   "cell_type": "markdown",
   "source": "Liberando o parquet da memória:",
   "id": "d9c016a0085c1996"
  },
  {
   "cell_type": "code",
   "id": "affee011",
   "metadata": {},
   "source": [
    "del df_parquet"
   ],
   "outputs": [],
   "execution_count": null
  },
  {
   "metadata": {},
   "cell_type": "markdown",
   "source": "Compactando com o gzip:",
   "id": "34a4792bc234464d"
  },
  {
   "cell_type": "code",
   "id": "36ca62e4",
   "metadata": {},
   "source": [
    "df_gigante.to_parquet('./data/iris_gigante.parquet.gzip', compression='GZIP')\n",
    "\n",
    "gzip_em_bytes = os.path.getsize('./data/iris_gigante.parquet.gzip')\n",
    "convert_bytes(gzip_em_bytes)"
   ],
   "outputs": [],
   "execution_count": null
  },
  {
   "metadata": {},
   "cell_type": "markdown",
   "source": "Compactando com o BROTLI:",
   "id": "fb1d5f4da171414a"
  },
  {
   "cell_type": "code",
   "id": "44a2b135",
   "metadata": {},
   "source": [
    "# https://en.wikipedia.org/wiki/Brotli\n",
    "\n",
    "df_gigante.to_parquet('./data/iris_gigante.parquet.brotli', compression='BROTLI')\n",
    "\n",
    "brotli_em_bytes = os.path.getsize('./data/iris_gigante.parquet.brotli')\n",
    "convert_bytes(brotli_em_bytes)"
   ],
   "outputs": [],
   "execution_count": null
  },
  {
   "metadata": {},
   "cell_type": "markdown",
   "source": "Brincando com o parquet:",
   "id": "a615b6952a85d957"
  },
  {
   "metadata": {},
   "cell_type": "code",
   "source": "df_blotli = pd.read_parquet('./data/iris_gigante.parquet.brotli')",
   "id": "e3081eb50fff4ccb",
   "outputs": [],
   "execution_count": null
  },
  {
   "metadata": {},
   "cell_type": "code",
   "source": "df_blotli.head()",
   "id": "6ddf88f9373112a1",
   "outputs": [],
   "execution_count": null
  },
  {
   "metadata": {},
   "cell_type": "code",
   "source": "df_blotli.tail()",
   "id": "bc067f5a3e2deb7",
   "outputs": [],
   "execution_count": null
  },
  {
   "metadata": {},
   "cell_type": "code",
   "source": "df_blotli.info()",
   "id": "7ad5ba1754862fbf",
   "outputs": [],
   "execution_count": null
  },
  {
   "metadata": {},
   "cell_type": "markdown",
   "source": "Explorando mais ...",
   "id": "fb13580d4a508dfe"
  },
  {
   "metadata": {},
   "cell_type": "code",
   "source": "df_sns = sns.load_dataset(\"iris\")",
   "id": "f382df70c164c675",
   "outputs": [],
   "execution_count": null
  },
  {
   "metadata": {},
   "cell_type": "code",
   "source": "df_sns.shape",
   "id": "84cb3218acbeede1",
   "outputs": [],
   "execution_count": null
  },
  {
   "metadata": {},
   "cell_type": "code",
   "source": "df_sns.to_parquet('./data/iris_sns.parquet.brotli', engine='pyarrow', compression='BROTLI')",
   "id": "3ce4a4ec2e2d1baa",
   "outputs": [],
   "execution_count": null
  },
  {
   "metadata": {},
   "cell_type": "code",
   "source": "df_parquet_iris = pd.read_parquet('./data/iris_sns.parquet.brotli')",
   "id": "e6ef6761a26ae448",
   "outputs": [],
   "execution_count": null
  },
  {
   "metadata": {},
   "cell_type": "markdown",
   "source": "Lendo 1ªs linhas:",
   "id": "f6d27938834d7cb3"
  },
  {
   "metadata": {},
   "cell_type": "code",
   "source": "df_parquet_iris.head()",
   "id": "8c10755420779c94",
   "outputs": [],
   "execution_count": null
  },
  {
   "metadata": {},
   "cell_type": "markdown",
   "source": "Resumo estatistico:",
   "id": "bcd0a9a78dca0985"
  },
  {
   "metadata": {},
   "cell_type": "code",
   "source": "df_parquet_iris.describe()",
   "id": "356db38be254a26d",
   "outputs": [],
   "execution_count": null
  },
  {
   "metadata": {},
   "cell_type": "markdown",
   "source": "Verificando valores faltantes",
   "id": "d1259c2ebdcb1868"
  },
  {
   "metadata": {},
   "cell_type": "code",
   "source": "df_parquet_iris.isnull().sum()",
   "id": "92e24ae39538a521",
   "outputs": [],
   "execution_count": null
  },
  {
   "metadata": {},
   "cell_type": "markdown",
   "source": "Distribuição de classes",
   "id": "5f5bbeb3252733ac"
  },
  {
   "metadata": {},
   "cell_type": "code",
   "source": "df_parquet_iris.species.value_counts()",
   "id": "8a6ae214bf23a37",
   "outputs": [],
   "execution_count": null
  },
  {
   "metadata": {},
   "cell_type": "code",
   "source": "df_parquet_iris.groupby('species').mean()",
   "id": "7749e1f3b8e6af9e",
   "outputs": [],
   "execution_count": null
  }
 ],
 "metadata": {
  "kernelspec": {
   "display_name": "Python 3 (ipykernel)",
   "language": "python",
   "name": "python3"
  },
  "language_info": {
   "codemirror_mode": {
    "name": "ipython",
    "version": 3
   },
   "file_extension": ".py",
   "mimetype": "text/x-python",
   "name": "python",
   "nbconvert_exporter": "python",
   "pygments_lexer": "ipython3",
   "version": "3.7.8"
  }
 },
 "nbformat": 4,
 "nbformat_minor": 5
}
